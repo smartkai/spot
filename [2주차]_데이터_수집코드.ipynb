{
  "nbformat": 4,
  "nbformat_minor": 0,
  "metadata": {
    "colab": {
      "provenance": [],
      "authorship_tag": "ABX9TyMtXWpiHec05LMoByQJepNg",
      "include_colab_link": true
    },
    "kernelspec": {
      "name": "python3",
      "display_name": "Python 3"
    },
    "language_info": {
      "name": "python"
    }
  },
  "cells": [
    {
      "cell_type": "markdown",
      "metadata": {
        "id": "view-in-github",
        "colab_type": "text"
      },
      "source": [
        "<a href=\"https://colab.research.google.com/github/smartkai/spot/blob/main/%5B2%EC%A3%BC%EC%B0%A8%5D_%EB%8D%B0%EC%9D%B4%ED%84%B0_%EC%88%98%EC%A7%91%EC%BD%94%EB%93%9C.ipynb\" target=\"_parent\"><img src=\"https://colab.research.google.com/assets/colab-badge.svg\" alt=\"Open In Colab\"/></a>"
      ]
    },
    {
      "cell_type": "markdown",
      "source": [
        "\n",
        "## 주식, 환율, 비트코인 데이터 수집 코드"
      ],
      "metadata": {
        "id": "vutwrQlIu36Q"
      }
    },
    {
      "cell_type": "code",
      "execution_count": 1,
      "metadata": {
        "colab": {
          "base_uri": "https://localhost:8080/"
        },
        "id": "LmrwT0rGuz_E",
        "outputId": "25211ca6-50c7-4448-bb15-aa8e2713a327"
      },
      "outputs": [
        {
          "output_type": "stream",
          "name": "stdout",
          "text": [
            "Collecting finance-datareader\n",
            "  Downloading finance_datareader-0.9.93-py3-none-any.whl.metadata (466 bytes)\n",
            "Requirement already satisfied: pandas>=0.19.2 in /usr/local/lib/python3.10/dist-packages (from finance-datareader) (2.1.4)\n",
            "Requirement already satisfied: requests>=2.3.0 in /usr/local/lib/python3.10/dist-packages (from finance-datareader) (2.31.0)\n",
            "Collecting requests-file (from finance-datareader)\n",
            "  Downloading requests_file-2.1.0-py2.py3-none-any.whl.metadata (1.7 kB)\n",
            "Requirement already satisfied: lxml in /usr/local/lib/python3.10/dist-packages (from finance-datareader) (4.9.4)\n",
            "Requirement already satisfied: tqdm in /usr/local/lib/python3.10/dist-packages (from finance-datareader) (4.66.4)\n",
            "Requirement already satisfied: numpy<2,>=1.22.4 in /usr/local/lib/python3.10/dist-packages (from pandas>=0.19.2->finance-datareader) (1.26.4)\n",
            "Requirement already satisfied: python-dateutil>=2.8.2 in /usr/local/lib/python3.10/dist-packages (from pandas>=0.19.2->finance-datareader) (2.8.2)\n",
            "Requirement already satisfied: pytz>=2020.1 in /usr/local/lib/python3.10/dist-packages (from pandas>=0.19.2->finance-datareader) (2024.1)\n",
            "Requirement already satisfied: tzdata>=2022.1 in /usr/local/lib/python3.10/dist-packages (from pandas>=0.19.2->finance-datareader) (2024.1)\n",
            "Requirement already satisfied: charset-normalizer<4,>=2 in /usr/local/lib/python3.10/dist-packages (from requests>=2.3.0->finance-datareader) (3.3.2)\n",
            "Requirement already satisfied: idna<4,>=2.5 in /usr/local/lib/python3.10/dist-packages (from requests>=2.3.0->finance-datareader) (3.7)\n",
            "Requirement already satisfied: urllib3<3,>=1.21.1 in /usr/local/lib/python3.10/dist-packages (from requests>=2.3.0->finance-datareader) (2.0.7)\n",
            "Requirement already satisfied: certifi>=2017.4.17 in /usr/local/lib/python3.10/dist-packages (from requests>=2.3.0->finance-datareader) (2024.7.4)\n",
            "Requirement already satisfied: six>=1.5 in /usr/local/lib/python3.10/dist-packages (from python-dateutil>=2.8.2->pandas>=0.19.2->finance-datareader) (1.16.0)\n",
            "Downloading finance_datareader-0.9.93-py3-none-any.whl (88 kB)\n",
            "\u001b[2K   \u001b[90m━━━━━━━━━━━━━━━━━━━━━━━━━━━━━━━━━━━━━━━━\u001b[0m \u001b[32m89.0/89.0 kB\u001b[0m \u001b[31m1.2 MB/s\u001b[0m eta \u001b[36m0:00:00\u001b[0m\n",
            "\u001b[?25hDownloading requests_file-2.1.0-py2.py3-none-any.whl (4.2 kB)\n",
            "Installing collected packages: requests-file, finance-datareader\n",
            "Successfully installed finance-datareader-0.9.93 requests-file-2.1.0\n"
          ]
        }
      ],
      "source": [
        "!pip install finance-datareader"
      ]
    },
    {
      "cell_type": "code",
      "source": [
        "import FinanceDataReader as fdr\n",
        "import pandas as pd"
      ],
      "metadata": {
        "id": "lWUjY2OjvHWR"
      },
      "execution_count": 2,
      "outputs": []
    },
    {
      "cell_type": "code",
      "source": [
        "# 0.9.33 이상이어야 정상작동 됩니다\n",
        "\n",
        "fdr.__version__"
      ],
      "metadata": {
        "colab": {
          "base_uri": "https://localhost:8080/",
          "height": 35
        },
        "id": "xUyuz-wwvJbG",
        "outputId": "3eb6bcec-af90-4d10-fa6a-b23f55c2c147"
      },
      "execution_count": 3,
      "outputs": [
        {
          "output_type": "execute_result",
          "data": {
            "text/plain": [
              "'0.9.93'"
            ],
            "application/vnd.google.colaboratory.intrinsic+json": {
              "type": "string"
            }
          },
          "metadata": {},
          "execution_count": 3
        }
      ]
    },
    {
      "cell_type": "code",
      "source": [
        "# 한국거래소 전체 상장 종목\n",
        "krx = fdr.StockListing('KRX')\n",
        "krx.head(3)"
      ],
      "metadata": {
        "colab": {
          "base_uri": "https://localhost:8080/",
          "height": 268
        },
        "id": "MV42LK6wvK7G",
        "outputId": "87941c85-2671-4f00-a8fe-0a88e56d9ad8"
      },
      "execution_count": 4,
      "outputs": [
        {
          "output_type": "execute_result",
          "data": {
            "text/plain": [
              "     Code        ISU_CD      Name Market Dept   Close ChangeCode  Changes  \\\n",
              "0  005930  KR7005930003      삼성전자  KOSPI        73200          2    -6400   \n",
              "1  000660  KR7000660001    SK하이닉스  KOSPI       160100          2   -13100   \n",
              "2  373220  KR7373220003  LG에너지솔루션  KOSPI       332000          2    -4000   \n",
              "\n",
              "   ChagesRatio    Open    High     Low    Volume         Amount  \\\n",
              "0        -8.04   76700   76900   73100  30794334  2317225647000   \n",
              "1        -7.56  168000  171200  159700   6509290  1076055227500   \n",
              "2        -1.19  332500  340000  325000    192580    64288485500   \n",
              "\n",
              "            Marcap      Stocks MarketId  \n",
              "0  436988082660000  5969782550      STK  \n",
              "1  116553178636500   728002365      STK  \n",
              "2   77688000000000   234000000      STK  "
            ],
            "text/html": [
              "\n",
              "  <div id=\"df-54546ba0-f6d1-4bb2-8e10-726715912c1c\" class=\"colab-df-container\">\n",
              "    <div>\n",
              "<style scoped>\n",
              "    .dataframe tbody tr th:only-of-type {\n",
              "        vertical-align: middle;\n",
              "    }\n",
              "\n",
              "    .dataframe tbody tr th {\n",
              "        vertical-align: top;\n",
              "    }\n",
              "\n",
              "    .dataframe thead th {\n",
              "        text-align: right;\n",
              "    }\n",
              "</style>\n",
              "<table border=\"1\" class=\"dataframe\">\n",
              "  <thead>\n",
              "    <tr style=\"text-align: right;\">\n",
              "      <th></th>\n",
              "      <th>Code</th>\n",
              "      <th>ISU_CD</th>\n",
              "      <th>Name</th>\n",
              "      <th>Market</th>\n",
              "      <th>Dept</th>\n",
              "      <th>Close</th>\n",
              "      <th>ChangeCode</th>\n",
              "      <th>Changes</th>\n",
              "      <th>ChagesRatio</th>\n",
              "      <th>Open</th>\n",
              "      <th>High</th>\n",
              "      <th>Low</th>\n",
              "      <th>Volume</th>\n",
              "      <th>Amount</th>\n",
              "      <th>Marcap</th>\n",
              "      <th>Stocks</th>\n",
              "      <th>MarketId</th>\n",
              "    </tr>\n",
              "  </thead>\n",
              "  <tbody>\n",
              "    <tr>\n",
              "      <th>0</th>\n",
              "      <td>005930</td>\n",
              "      <td>KR7005930003</td>\n",
              "      <td>삼성전자</td>\n",
              "      <td>KOSPI</td>\n",
              "      <td></td>\n",
              "      <td>73200</td>\n",
              "      <td>2</td>\n",
              "      <td>-6400</td>\n",
              "      <td>-8.04</td>\n",
              "      <td>76700</td>\n",
              "      <td>76900</td>\n",
              "      <td>73100</td>\n",
              "      <td>30794334</td>\n",
              "      <td>2317225647000</td>\n",
              "      <td>436988082660000</td>\n",
              "      <td>5969782550</td>\n",
              "      <td>STK</td>\n",
              "    </tr>\n",
              "    <tr>\n",
              "      <th>1</th>\n",
              "      <td>000660</td>\n",
              "      <td>KR7000660001</td>\n",
              "      <td>SK하이닉스</td>\n",
              "      <td>KOSPI</td>\n",
              "      <td></td>\n",
              "      <td>160100</td>\n",
              "      <td>2</td>\n",
              "      <td>-13100</td>\n",
              "      <td>-7.56</td>\n",
              "      <td>168000</td>\n",
              "      <td>171200</td>\n",
              "      <td>159700</td>\n",
              "      <td>6509290</td>\n",
              "      <td>1076055227500</td>\n",
              "      <td>116553178636500</td>\n",
              "      <td>728002365</td>\n",
              "      <td>STK</td>\n",
              "    </tr>\n",
              "    <tr>\n",
              "      <th>2</th>\n",
              "      <td>373220</td>\n",
              "      <td>KR7373220003</td>\n",
              "      <td>LG에너지솔루션</td>\n",
              "      <td>KOSPI</td>\n",
              "      <td></td>\n",
              "      <td>332000</td>\n",
              "      <td>2</td>\n",
              "      <td>-4000</td>\n",
              "      <td>-1.19</td>\n",
              "      <td>332500</td>\n",
              "      <td>340000</td>\n",
              "      <td>325000</td>\n",
              "      <td>192580</td>\n",
              "      <td>64288485500</td>\n",
              "      <td>77688000000000</td>\n",
              "      <td>234000000</td>\n",
              "      <td>STK</td>\n",
              "    </tr>\n",
              "  </tbody>\n",
              "</table>\n",
              "</div>\n",
              "    <div class=\"colab-df-buttons\">\n",
              "\n",
              "  <div class=\"colab-df-container\">\n",
              "    <button class=\"colab-df-convert\" onclick=\"convertToInteractive('df-54546ba0-f6d1-4bb2-8e10-726715912c1c')\"\n",
              "            title=\"Convert this dataframe to an interactive table.\"\n",
              "            style=\"display:none;\">\n",
              "\n",
              "  <svg xmlns=\"http://www.w3.org/2000/svg\" height=\"24px\" viewBox=\"0 -960 960 960\">\n",
              "    <path d=\"M120-120v-720h720v720H120Zm60-500h600v-160H180v160Zm220 220h160v-160H400v160Zm0 220h160v-160H400v160ZM180-400h160v-160H180v160Zm440 0h160v-160H620v160ZM180-180h160v-160H180v160Zm440 0h160v-160H620v160Z\"/>\n",
              "  </svg>\n",
              "    </button>\n",
              "\n",
              "  <style>\n",
              "    .colab-df-container {\n",
              "      display:flex;\n",
              "      gap: 12px;\n",
              "    }\n",
              "\n",
              "    .colab-df-convert {\n",
              "      background-color: #E8F0FE;\n",
              "      border: none;\n",
              "      border-radius: 50%;\n",
              "      cursor: pointer;\n",
              "      display: none;\n",
              "      fill: #1967D2;\n",
              "      height: 32px;\n",
              "      padding: 0 0 0 0;\n",
              "      width: 32px;\n",
              "    }\n",
              "\n",
              "    .colab-df-convert:hover {\n",
              "      background-color: #E2EBFA;\n",
              "      box-shadow: 0px 1px 2px rgba(60, 64, 67, 0.3), 0px 1px 3px 1px rgba(60, 64, 67, 0.15);\n",
              "      fill: #174EA6;\n",
              "    }\n",
              "\n",
              "    .colab-df-buttons div {\n",
              "      margin-bottom: 4px;\n",
              "    }\n",
              "\n",
              "    [theme=dark] .colab-df-convert {\n",
              "      background-color: #3B4455;\n",
              "      fill: #D2E3FC;\n",
              "    }\n",
              "\n",
              "    [theme=dark] .colab-df-convert:hover {\n",
              "      background-color: #434B5C;\n",
              "      box-shadow: 0px 1px 3px 1px rgba(0, 0, 0, 0.15);\n",
              "      filter: drop-shadow(0px 1px 2px rgba(0, 0, 0, 0.3));\n",
              "      fill: #FFFFFF;\n",
              "    }\n",
              "  </style>\n",
              "\n",
              "    <script>\n",
              "      const buttonEl =\n",
              "        document.querySelector('#df-54546ba0-f6d1-4bb2-8e10-726715912c1c button.colab-df-convert');\n",
              "      buttonEl.style.display =\n",
              "        google.colab.kernel.accessAllowed ? 'block' : 'none';\n",
              "\n",
              "      async function convertToInteractive(key) {\n",
              "        const element = document.querySelector('#df-54546ba0-f6d1-4bb2-8e10-726715912c1c');\n",
              "        const dataTable =\n",
              "          await google.colab.kernel.invokeFunction('convertToInteractive',\n",
              "                                                    [key], {});\n",
              "        if (!dataTable) return;\n",
              "\n",
              "        const docLinkHtml = 'Like what you see? Visit the ' +\n",
              "          '<a target=\"_blank\" href=https://colab.research.google.com/notebooks/data_table.ipynb>data table notebook</a>'\n",
              "          + ' to learn more about interactive tables.';\n",
              "        element.innerHTML = '';\n",
              "        dataTable['output_type'] = 'display_data';\n",
              "        await google.colab.output.renderOutput(dataTable, element);\n",
              "        const docLink = document.createElement('div');\n",
              "        docLink.innerHTML = docLinkHtml;\n",
              "        element.appendChild(docLink);\n",
              "      }\n",
              "    </script>\n",
              "  </div>\n",
              "\n",
              "\n",
              "<div id=\"df-cb17c176-8a9e-4d36-a831-27c97ccdb3ce\">\n",
              "  <button class=\"colab-df-quickchart\" onclick=\"quickchart('df-cb17c176-8a9e-4d36-a831-27c97ccdb3ce')\"\n",
              "            title=\"Suggest charts\"\n",
              "            style=\"display:none;\">\n",
              "\n",
              "<svg xmlns=\"http://www.w3.org/2000/svg\" height=\"24px\"viewBox=\"0 0 24 24\"\n",
              "     width=\"24px\">\n",
              "    <g>\n",
              "        <path d=\"M19 3H5c-1.1 0-2 .9-2 2v14c0 1.1.9 2 2 2h14c1.1 0 2-.9 2-2V5c0-1.1-.9-2-2-2zM9 17H7v-7h2v7zm4 0h-2V7h2v10zm4 0h-2v-4h2v4z\"/>\n",
              "    </g>\n",
              "</svg>\n",
              "  </button>\n",
              "\n",
              "<style>\n",
              "  .colab-df-quickchart {\n",
              "      --bg-color: #E8F0FE;\n",
              "      --fill-color: #1967D2;\n",
              "      --hover-bg-color: #E2EBFA;\n",
              "      --hover-fill-color: #174EA6;\n",
              "      --disabled-fill-color: #AAA;\n",
              "      --disabled-bg-color: #DDD;\n",
              "  }\n",
              "\n",
              "  [theme=dark] .colab-df-quickchart {\n",
              "      --bg-color: #3B4455;\n",
              "      --fill-color: #D2E3FC;\n",
              "      --hover-bg-color: #434B5C;\n",
              "      --hover-fill-color: #FFFFFF;\n",
              "      --disabled-bg-color: #3B4455;\n",
              "      --disabled-fill-color: #666;\n",
              "  }\n",
              "\n",
              "  .colab-df-quickchart {\n",
              "    background-color: var(--bg-color);\n",
              "    border: none;\n",
              "    border-radius: 50%;\n",
              "    cursor: pointer;\n",
              "    display: none;\n",
              "    fill: var(--fill-color);\n",
              "    height: 32px;\n",
              "    padding: 0;\n",
              "    width: 32px;\n",
              "  }\n",
              "\n",
              "  .colab-df-quickchart:hover {\n",
              "    background-color: var(--hover-bg-color);\n",
              "    box-shadow: 0 1px 2px rgba(60, 64, 67, 0.3), 0 1px 3px 1px rgba(60, 64, 67, 0.15);\n",
              "    fill: var(--button-hover-fill-color);\n",
              "  }\n",
              "\n",
              "  .colab-df-quickchart-complete:disabled,\n",
              "  .colab-df-quickchart-complete:disabled:hover {\n",
              "    background-color: var(--disabled-bg-color);\n",
              "    fill: var(--disabled-fill-color);\n",
              "    box-shadow: none;\n",
              "  }\n",
              "\n",
              "  .colab-df-spinner {\n",
              "    border: 2px solid var(--fill-color);\n",
              "    border-color: transparent;\n",
              "    border-bottom-color: var(--fill-color);\n",
              "    animation:\n",
              "      spin 1s steps(1) infinite;\n",
              "  }\n",
              "\n",
              "  @keyframes spin {\n",
              "    0% {\n",
              "      border-color: transparent;\n",
              "      border-bottom-color: var(--fill-color);\n",
              "      border-left-color: var(--fill-color);\n",
              "    }\n",
              "    20% {\n",
              "      border-color: transparent;\n",
              "      border-left-color: var(--fill-color);\n",
              "      border-top-color: var(--fill-color);\n",
              "    }\n",
              "    30% {\n",
              "      border-color: transparent;\n",
              "      border-left-color: var(--fill-color);\n",
              "      border-top-color: var(--fill-color);\n",
              "      border-right-color: var(--fill-color);\n",
              "    }\n",
              "    40% {\n",
              "      border-color: transparent;\n",
              "      border-right-color: var(--fill-color);\n",
              "      border-top-color: var(--fill-color);\n",
              "    }\n",
              "    60% {\n",
              "      border-color: transparent;\n",
              "      border-right-color: var(--fill-color);\n",
              "    }\n",
              "    80% {\n",
              "      border-color: transparent;\n",
              "      border-right-color: var(--fill-color);\n",
              "      border-bottom-color: var(--fill-color);\n",
              "    }\n",
              "    90% {\n",
              "      border-color: transparent;\n",
              "      border-bottom-color: var(--fill-color);\n",
              "    }\n",
              "  }\n",
              "</style>\n",
              "\n",
              "  <script>\n",
              "    async function quickchart(key) {\n",
              "      const quickchartButtonEl =\n",
              "        document.querySelector('#' + key + ' button');\n",
              "      quickchartButtonEl.disabled = true;  // To prevent multiple clicks.\n",
              "      quickchartButtonEl.classList.add('colab-df-spinner');\n",
              "      try {\n",
              "        const charts = await google.colab.kernel.invokeFunction(\n",
              "            'suggestCharts', [key], {});\n",
              "      } catch (error) {\n",
              "        console.error('Error during call to suggestCharts:', error);\n",
              "      }\n",
              "      quickchartButtonEl.classList.remove('colab-df-spinner');\n",
              "      quickchartButtonEl.classList.add('colab-df-quickchart-complete');\n",
              "    }\n",
              "    (() => {\n",
              "      let quickchartButtonEl =\n",
              "        document.querySelector('#df-cb17c176-8a9e-4d36-a831-27c97ccdb3ce button');\n",
              "      quickchartButtonEl.style.display =\n",
              "        google.colab.kernel.accessAllowed ? 'block' : 'none';\n",
              "    })();\n",
              "  </script>\n",
              "</div>\n",
              "\n",
              "    </div>\n",
              "  </div>\n"
            ],
            "application/vnd.google.colaboratory.intrinsic+json": {
              "type": "dataframe",
              "variable_name": "krx",
              "summary": "{\n  \"name\": \"krx\",\n  \"rows\": 2822,\n  \"fields\": [\n    {\n      \"column\": \"Code\",\n      \"properties\": {\n        \"dtype\": \"string\",\n        \"num_unique_values\": 2822,\n        \"samples\": [\n          \"147830\",\n          \"023790\",\n          \"226330\"\n        ],\n        \"semantic_type\": \"\",\n        \"description\": \"\"\n      }\n    },\n    {\n      \"column\": \"ISU_CD\",\n      \"properties\": {\n        \"dtype\": \"string\",\n        \"num_unique_values\": 2822,\n        \"samples\": [\n          \"KR7147830004\",\n          \"KR7023790009\",\n          \"KR7226330009\"\n        ],\n        \"semantic_type\": \"\",\n        \"description\": \"\"\n      }\n    },\n    {\n      \"column\": \"Name\",\n      \"properties\": {\n        \"dtype\": \"string\",\n        \"num_unique_values\": 2822,\n        \"samples\": [\n          \"\\uc81c\\ub8e1\\uc0b0\\uc5c5\",\n          \"\\ub3d9\\uc77c\\ucca0\\uac15\",\n          \"\\uc2e0\\ud14c\\uce74\\ubc14\\uc774\\uc624\"\n        ],\n        \"semantic_type\": \"\",\n        \"description\": \"\"\n      }\n    },\n    {\n      \"column\": \"Market\",\n      \"properties\": {\n        \"dtype\": \"category\",\n        \"num_unique_values\": 4,\n        \"samples\": [\n          \"KOSDAQ GLOBAL\",\n          \"KONEX\",\n          \"KOSPI\"\n        ],\n        \"semantic_type\": \"\",\n        \"description\": \"\"\n      }\n    },\n    {\n      \"column\": \"Dept\",\n      \"properties\": {\n        \"dtype\": \"category\",\n        \"num_unique_values\": 10,\n        \"samples\": [\n          \"\\ud22c\\uc790\\uc8fc\\uc758\\ud658\\uae30\\uc885\\ubaa9(\\uc18c\\uc18d\\ubd80\\uc5c6\\uc74c)\",\n          \"\\uc6b0\\ub7c9\\uae30\\uc5c5\\ubd80\",\n          \"\\uc678\\uad6d\\uae30\\uc5c5(\\uc18c\\uc18d\\ubd80\\uc5c6\\uc74c)\"\n        ],\n        \"semantic_type\": \"\",\n        \"description\": \"\"\n      }\n    },\n    {\n      \"column\": \"Close\",\n      \"properties\": {\n        \"dtype\": \"string\",\n        \"num_unique_values\": 1977,\n        \"samples\": [\n          \"85\",\n          \"8420\",\n          \"5040\"\n        ],\n        \"semantic_type\": \"\",\n        \"description\": \"\"\n      }\n    },\n    {\n      \"column\": \"ChangeCode\",\n      \"properties\": {\n        \"dtype\": \"category\",\n        \"num_unique_values\": 6,\n        \"samples\": [\n          \"2\",\n          \"0\",\n          \"5\"\n        ],\n        \"semantic_type\": \"\",\n        \"description\": \"\"\n      }\n    },\n    {\n      \"column\": \"Changes\",\n      \"properties\": {\n        \"dtype\": \"number\",\n        \"std\": 2844,\n        \"min\": -42000,\n        \"max\": 4390,\n        \"num_unique_values\": 611,\n        \"samples\": [\n          -12100,\n          -350,\n          -2400\n        ],\n        \"semantic_type\": \"\",\n        \"description\": \"\"\n      }\n    },\n    {\n      \"column\": \"ChagesRatio\",\n      \"properties\": {\n        \"dtype\": \"number\",\n        \"std\": 4.133262149944861,\n        \"min\": -18.51,\n        \"max\": 30.0,\n        \"num_unique_values\": 1124,\n        \"samples\": [\n          3.03,\n          -9.68,\n          -2.6\n        ],\n        \"semantic_type\": \"\",\n        \"description\": \"\"\n      }\n    },\n    {\n      \"column\": \"Open\",\n      \"properties\": {\n        \"dtype\": \"number\",\n        \"std\": 47257,\n        \"min\": 0,\n        \"max\": 898000,\n        \"num_unique_values\": 1870,\n        \"samples\": [\n          384,\n          4435,\n          7460\n        ],\n        \"semantic_type\": \"\",\n        \"description\": \"\"\n      }\n    },\n    {\n      \"column\": \"High\",\n      \"properties\": {\n        \"dtype\": \"number\",\n        \"std\": 47928,\n        \"min\": 0,\n        \"max\": 924000,\n        \"num_unique_values\": 1871,\n        \"samples\": [\n          1457,\n          2465,\n          7950\n        ],\n        \"semantic_type\": \"\",\n        \"description\": \"\"\n      }\n    },\n    {\n      \"column\": \"Low\",\n      \"properties\": {\n        \"dtype\": \"number\",\n        \"std\": 45405,\n        \"min\": 0,\n        \"max\": 880000,\n        \"num_unique_values\": 1855,\n        \"samples\": [\n          35950,\n          8560,\n          1980\n        ],\n        \"semantic_type\": \"\",\n        \"description\": \"\"\n      }\n    },\n    {\n      \"column\": \"Volume\",\n      \"properties\": {\n        \"dtype\": \"number\",\n        \"std\": 2018886,\n        \"min\": 0,\n        \"max\": 65333192,\n        \"num_unique_values\": 2659,\n        \"samples\": [\n          177114,\n          262937,\n          65186\n        ],\n        \"semantic_type\": \"\",\n        \"description\": \"\"\n      }\n    },\n    {\n      \"column\": \"Amount\",\n      \"properties\": {\n        \"dtype\": \"number\",\n        \"std\": 50496018613,\n        \"min\": 0,\n        \"max\": 2317225647000,\n        \"num_unique_values\": 2684,\n        \"samples\": [\n          172971920,\n          849733191,\n          302932380\n        ],\n        \"semantic_type\": \"\",\n        \"description\": \"\"\n      }\n    },\n    {\n      \"column\": \"Marcap\",\n      \"properties\": {\n        \"dtype\": \"number\",\n        \"std\": 9091510459873,\n        \"min\": 796000000,\n        \"max\": 436988082660000,\n        \"num_unique_values\": 2820,\n        \"samples\": [\n          139648026680,\n          34743615270,\n          219051000000\n        ],\n        \"semantic_type\": \"\",\n        \"description\": \"\"\n      }\n    },\n    {\n      \"column\": \"Stocks\",\n      \"properties\": {\n        \"dtype\": \"number\",\n        \"std\": 133393623,\n        \"min\": 200000,\n        \"max\": 5969782550,\n        \"num_unique_values\": 2728,\n        \"samples\": [\n          53267083,\n          357142,\n          15978000\n        ],\n        \"semantic_type\": \"\",\n        \"description\": \"\"\n      }\n    },\n    {\n      \"column\": \"MarketId\",\n      \"properties\": {\n        \"dtype\": \"category\",\n        \"num_unique_values\": 3,\n        \"samples\": [\n          \"STK\",\n          \"KSQ\",\n          \"KNX\"\n        ],\n        \"semantic_type\": \"\",\n        \"description\": \"\"\n      }\n    }\n  ]\n}"
            }
          },
          "metadata": {},
          "execution_count": 4
        }
      ]
    },
    {
      "cell_type": "code",
      "source": [
        "# S&P 500 전체 종목\n",
        "spx = fdr.StockListing('S&P500')\n",
        "spx.head(3)"
      ],
      "metadata": {
        "id": "NFqsdp_0vOAu"
      },
      "execution_count": null,
      "outputs": []
    },
    {
      "cell_type": "code",
      "source": [
        "# KOSPI 지수, 모든 데이터\n",
        "kospi = fdr.DataReader('KS11')\n",
        "kospi.head(3)"
      ],
      "metadata": {
        "id": "XpJGt8TKvP9t"
      },
      "execution_count": null,
      "outputs": []
    },
    {
      "cell_type": "code",
      "source": [
        "# 원달러 환율, 모든 데이터\n",
        "rate = fdr.DataReader('USD/KRW')\n",
        "rate.head(3)"
      ],
      "metadata": {
        "id": "G-c0OMOrvRR0"
      },
      "execution_count": null,
      "outputs": []
    },
    {
      "cell_type": "code",
      "source": [
        "# 비트코인 원화 가격 (빗썸), 2015년부터 현재까지\n",
        "coin = fdr.DataReader('BTC/KRW', '2015')\n",
        "coin.head(3)"
      ],
      "metadata": {
        "id": "wKD6mTn8vTS2"
      },
      "execution_count": null,
      "outputs": []
    },
    {
      "cell_type": "code",
      "source": [
        "krx.to_csv('KRX_data.csv')\n",
        "spx.to_csv('S&P500_data.csv')\n",
        "kospi.to_csv('kospi_data.csv')\n",
        "rate.to_csv('Exchage_rate.csv')\n",
        "coin.to_csv('Bitcoin.csv')"
      ],
      "metadata": {
        "id": "U9g9GisWvT6E"
      },
      "execution_count": null,
      "outputs": []
    }
  ]
}